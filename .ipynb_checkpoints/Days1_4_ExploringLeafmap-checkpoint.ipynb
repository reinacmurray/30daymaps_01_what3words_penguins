{
 "cells": [
  {
   "cell_type": "markdown",
   "id": "3a4cba0c",
   "metadata": {},
   "source": [
    "# 30 Day Map Challenge: Days 1 (Points) - 4 (Green)\n",
    "\n",
    "### Exploring the world of [Leafmap](https://leafmap.org/)\n",
    "Reina Chano Murray  |  November 5, 2022  |  [github/reinacmurray](https://github.com/reinacmurray)  \n",
    " "
   ]
  },
  {
   "cell_type": "markdown",
   "id": "78a48ecb",
   "metadata": {},
   "source": [
    "### My approach to the 30 Day Map Challenge\n",
    "In my day job, I spend more time advising people on making map applications and/or admninistering GIS systems, so I decided to use the 2022 [30 Day Map Challenge](https://30daymapchallenge.com/) as an avenue to 1) play around with creating maps programmatically and 2) explore software and platforms I haven't had a chance to use before. And of course, just have fun making maps! \n",
    "\n",
    "### The background on this notebook\n",
    "I came across the [leafmap](https://leafmap.org/) package while looking up geospatial python packages. Matt Forrest, VP of Solutions Engineering at [Carto](https://carto.com/), recommended it in his video, [ The Top Courses to Learn Geospatial Python](https://www.youtube.com/watch?v=eXYg1WC93do). \n",
    "\n",
    "Leafmap was created and is maintained by [Professor Qiusheng Wu](https://wetlands.io/) at the University of Tennessee, Knoxville. In Dr. Wu's own words, leafmap is: \n",
    "\n",
    "*[a] free and open-source Python package that enables users to analyze and visualize geospatial data with minimal coding in a Jupyter environment, such as Google Colab, Jupyter Notebook, and JupyterLab. Leafmap is built upon several open-source packages, such as folium and ipyleaflet (for creating interactive maps), WhiteboxTools and whiteboxgui (for analyzing geospatial data), and ipywidgets (for designing interactive graphical user interfaces [GUIs]).* \n",
    "\n",
    "Leafmap's integration with other python packages, like folium and ipyleaflet, not to mention geopandas, intrigued me, so I had to try it out. What follows are some simple maps that I created using Leafmap. Enjoy! "
   ]
  },
  {
   "cell_type": "code",
   "execution_count": 1,
   "id": "ecb09c31",
   "metadata": {},
   "outputs": [],
   "source": [
    "# import leafmap  -- see https://leafmap.org/get-started/ for information on \n",
    "# how to import leaflet to take advantage of the different plotting backends you can access\n",
    "\n",
    "import leafmap  # using default plotting backend, ipyleaflet"
   ]
  },
  {
   "cell_type": "code",
   "execution_count": 2,
   "id": "49110d73",
   "metadata": {},
   "outputs": [
    {
     "data": {
      "application/vnd.jupyter.widget-view+json": {
       "model_id": "8e32f3f9fb1f4b478d747b398fc8b4d9",
       "version_major": 2,
       "version_minor": 0
      },
      "text/plain": [
       "Map(center=[40.78124, -73.96686], controls=(ZoomControl(options=['position', 'zoom_in_text', 'zoom_in_title', …"
      ]
     },
     "execution_count": 2,
     "metadata": {},
     "output_type": "execute_result"
    }
   ],
   "source": [
    "# Day 1 - Points Revisited\n",
    "# experimenting with pulling data directly as a geojson from the NYC Open Data Portal\n",
    "# for more information on this dataset, see https://www.thesquirrelcensus.com/\n",
    "\n",
    "points_map = leafmap.Map(center=[40.78124, -73.96686], zoom=13)\n",
    "squirrels_geojson = \"https://data.cityofnewyork.us/resource/vfnx-vebw.geojson\"\n",
    "points_map.add_point_layer(squirrels_geojson,\n",
    "                           popup = [\"unique_squirrel_id\", \"primary_fur_color\", \"location\"],\n",
    "                           layer_name=\"squirrels\")\n",
    "points_map"
   ]
  },
  {
   "cell_type": "code",
   "execution_count": null,
   "id": "eb96c0bd",
   "metadata": {},
   "outputs": [],
   "source": [
    "# Day 2 - Lines\n",
    "# https://github.com/newzealandpaul/Shipping-Lanes/blob/main/data/Shipping_Lanes_v1.geojson\n",
    "lines_map = leafmap.Map(zoom=2)\n",
    "lines_map.add_basemap('CartoDB.DarkMatterNoLabels')\n",
    "\n",
    "# https://data-usfs.hub.arcgis.com/datasets/usfs::national-forest-system-trails-feature-layer/api\n",
    "in_geojson = \"https://github.com/newzealandpaul/Shipping-Lanes/blob/main/data/Shipping_Lanes_v1.geojson\"\n",
    "\n",
    "style = {\n",
    "    \"stroke\": True,\n",
    "    \"color\": \"#A93CC7\",\n",
    "    \"weight\": 1,\n",
    "    \"opacity\": 1,\n",
    "}\n",
    "\n",
    "hover_style = {\"fillOpacity\": 0.7}\n",
    "lines_map.add_geojson(in_geojson, layer_name=\"Shipping Lanes\", style=style)\n",
    "lines_map"
   ]
  },
  {
   "cell_type": "code",
   "execution_count": 3,
   "id": "9c6df296",
   "metadata": {
    "scrolled": false
   },
   "outputs": [
    {
     "data": {
      "application/vnd.jupyter.widget-view+json": {
       "model_id": "08158b12078f4bf0b42fdbb5ec35ef7b",
       "version_major": 2,
       "version_minor": 0
      },
      "text/plain": [
       "GridspecLayout(children=(Output(layout=Layout(grid_area='widget001')), Output(layout=Layout(grid_area='widget0…"
      ]
     },
     "execution_count": 3,
     "metadata": {},
     "output_type": "execute_result"
    }
   ],
   "source": [
    "# Day 3 - Polygons\n",
    "# pulling from http://www.justicemap.org/index.php\n",
    "# using leafmap's built-in basemaps and linked_map method\n",
    "# see https://leafmap.org/notebooks/11_linked_maps/\n",
    "\n",
    "layers = [\"JusticeMap.americanIndian\",\n",
    "          \"JusticeMap.asian\",\n",
    "          \"JusticeMap.black\",\n",
    "          \"JusticeMap.hispanic\",\n",
    "          \"JusticeMap.multi\", \n",
    "          \"JusticeMap.nonWhite\", \n",
    "          \"JusticeMap.white\",\n",
    "          \"JusticeMap.plurality\"]\n",
    "\n",
    "labels = [\"American Indian\",\n",
    "          \"Asian\",\n",
    "          \"Black\",\n",
    "          \"Hispanic\", \n",
    "          \"Multi-racial\",\n",
    "          \"Non-white\", \n",
    "          \"White\", \n",
    "          \"Plurality\"\n",
    "         ]\n",
    "\n",
    "polygon_map = leafmap.linked_maps(\n",
    "    rows=4,\n",
    "    cols=2,\n",
    "    height='300px',\n",
    "    layers=layers,\n",
    "    labels=labels,\n",
    "    center=(40, -100), \n",
    "    zoom=3\n",
    ")\n",
    "polygon_map\n"
   ]
  },
  {
   "cell_type": "code",
   "execution_count": 5,
   "id": "06ad32df",
   "metadata": {},
   "outputs": [
    {
     "data": {
      "application/vnd.jupyter.widget-view+json": {
       "model_id": "1f39a070d8da4ac9ac702ec81de1f097",
       "version_major": 2,
       "version_minor": 0
      },
      "text/plain": [
       "Map(center=[20, 0], controls=(ZoomControl(options=['position', 'zoom_in_text', 'zoom_in_title', 'zoom_out_text…"
      ]
     },
     "execution_count": 5,
     "metadata": {},
     "output_type": "execute_result"
    }
   ],
   "source": [
    "m = leafmap.Map()\n",
    "\n",
    "data = 'https://geonode.wfp.org/geoserver/wfs?srsName=EPSG%3A4326&typename=geonode:average_annual_vegetable_production_4&outputFormat=json&version=1.0.0&service=WFS&request=GetFeature'\n",
    "m.add_basemap('CartoDB.DarkMatter')\n",
    "\n",
    "\n",
    "\n",
    "m.add_data(\n",
    "    data, column = 'Vegetable', scheme = 'Quantiles', cmap = 'Greens', layer_name = 'Vegetable Production',\n",
    "    legend_title = 'Veggie Production (quantiles)')\n",
    "\n",
    "m\n"
   ]
  }
 ],
 "metadata": {
  "kernelspec": {
   "display_name": "Python 3 (ipykernel)",
   "language": "python",
   "name": "python3"
  },
  "language_info": {
   "codemirror_mode": {
    "name": "ipython",
    "version": 3
   },
   "file_extension": ".py",
   "mimetype": "text/x-python",
   "name": "python",
   "nbconvert_exporter": "python",
   "pygments_lexer": "ipython3",
   "version": "3.9.13"
  }
 },
 "nbformat": 4,
 "nbformat_minor": 5
}
